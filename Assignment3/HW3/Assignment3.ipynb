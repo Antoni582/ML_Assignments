{
 "cells": [
  {
   "cell_type": "markdown",
   "id": "0fd33643",
   "metadata": {},
   "source": [
    "### This assignment may be worked individually or in pairs. \n",
    "### Enter your name/names here:"
   ]
  },
  {
   "cell_type": "code",
   "execution_count": null,
   "id": "2649232b",
   "metadata": {},
   "outputs": [],
   "source": [
    "# Name(s) here"
   ]
  },
  {
   "cell_type": "code",
   "execution_count": 1,
   "id": "ab1fe226",
   "metadata": {},
   "outputs": [],
   "source": [
    "# headers\n",
    "import pandas as pd\n",
    "import matplotlib.pyplot as plt"
   ]
  },
  {
   "cell_type": "code",
   "execution_count": 2,
   "id": "cc9c4481",
   "metadata": {},
   "outputs": [],
   "source": [
    "# function to calculate adjusted r2\n",
    "def get_adj_r2(r2, n, p):\n",
    "    return (1-(1-r2)*((n-1)/(n-p-1)))"
   ]
  },
  {
   "cell_type": "markdown",
   "id": "7a7c7806",
   "metadata": {},
   "source": [
    "# Assignment 2: Regression and KNN classifier"
   ]
  },
  {
   "cell_type": "markdown",
   "id": "5bccf477",
   "metadata": {},
   "source": [
    "## Part 1: Regression with scikit-learn\n",
    "\n",
    "In this part of the assignment, you will fit a regression model to an insurance dataset using the scikit-learn package. \n",
    "\n",
    "The insurance company would like to be able to estimate the annual medical expenditures they will need to pay for any customer, based on the customer's age, sex, BMI, # of children, whether they are a smoker, and their region of residence. \n",
    "\n",
    "Estimates from this model can be used to then determine how much to charge each customer for insurance (the more we think you'll cost us, the more we will charge you)."
   ]
  },
  {
   "cell_type": "markdown",
   "id": "8bb47879",
   "metadata": {},
   "source": [
    "**Data Prep**\n",
    "\n",
    "Q1. Read the dataset from 'medical-charges.txt' into a Pandas Dataframe. Display the head of the dataset. There should be 1138 rows and 7 columns. The target column (y) is the `charges` column."
   ]
  },
  {
   "cell_type": "code",
   "execution_count": 3,
   "id": "589c05de",
   "metadata": {
    "scrolled": true
   },
   "outputs": [
    {
     "data": {
      "text/html": [
       "<div>\n",
       "<style scoped>\n",
       "    .dataframe tbody tr th:only-of-type {\n",
       "        vertical-align: middle;\n",
       "    }\n",
       "\n",
       "    .dataframe tbody tr th {\n",
       "        vertical-align: top;\n",
       "    }\n",
       "\n",
       "    .dataframe thead th {\n",
       "        text-align: right;\n",
       "    }\n",
       "</style>\n",
       "<table border=\"1\" class=\"dataframe\">\n",
       "  <thead>\n",
       "    <tr style=\"text-align: right;\">\n",
       "      <th></th>\n",
       "      <th>age</th>\n",
       "      <th>sex</th>\n",
       "      <th>bmi</th>\n",
       "      <th>children</th>\n",
       "      <th>smoker</th>\n",
       "      <th>region</th>\n",
       "      <th>charges</th>\n",
       "    </tr>\n",
       "  </thead>\n",
       "  <tbody>\n",
       "    <tr>\n",
       "      <th>0</th>\n",
       "      <td>19</td>\n",
       "      <td>female</td>\n",
       "      <td>27.900</td>\n",
       "      <td>0</td>\n",
       "      <td>yes</td>\n",
       "      <td>southwest</td>\n",
       "      <td>16884.92400</td>\n",
       "    </tr>\n",
       "    <tr>\n",
       "      <th>1</th>\n",
       "      <td>18</td>\n",
       "      <td>male</td>\n",
       "      <td>33.770</td>\n",
       "      <td>1</td>\n",
       "      <td>no</td>\n",
       "      <td>southeast</td>\n",
       "      <td>1725.55230</td>\n",
       "    </tr>\n",
       "    <tr>\n",
       "      <th>2</th>\n",
       "      <td>28</td>\n",
       "      <td>male</td>\n",
       "      <td>33.000</td>\n",
       "      <td>3</td>\n",
       "      <td>no</td>\n",
       "      <td>southeast</td>\n",
       "      <td>4449.46200</td>\n",
       "    </tr>\n",
       "    <tr>\n",
       "      <th>3</th>\n",
       "      <td>33</td>\n",
       "      <td>male</td>\n",
       "      <td>22.705</td>\n",
       "      <td>0</td>\n",
       "      <td>no</td>\n",
       "      <td>northwest</td>\n",
       "      <td>21984.47061</td>\n",
       "    </tr>\n",
       "    <tr>\n",
       "      <th>4</th>\n",
       "      <td>32</td>\n",
       "      <td>male</td>\n",
       "      <td>28.880</td>\n",
       "      <td>0</td>\n",
       "      <td>no</td>\n",
       "      <td>northwest</td>\n",
       "      <td>3866.85520</td>\n",
       "    </tr>\n",
       "  </tbody>\n",
       "</table>\n",
       "</div>"
      ],
      "text/plain": [
       "   age     sex     bmi  children smoker     region      charges\n",
       "0   19  female  27.900         0    yes  southwest  16884.92400\n",
       "1   18    male  33.770         1     no  southeast   1725.55230\n",
       "2   28    male  33.000         3     no  southeast   4449.46200\n",
       "3   33    male  22.705         0     no  northwest  21984.47061\n",
       "4   32    male  28.880         0     no  northwest   3866.85520"
      ]
     },
     "execution_count": 3,
     "metadata": {},
     "output_type": "execute_result"
    }
   ],
   "source": [
    "# your code goes here\n",
    "\n",
    "data = pd.read_csv(\"medical-charges.txt\")\n",
    "data.head()"
   ]
  },
  {
   "cell_type": "markdown",
   "id": "3043bb91",
   "metadata": {},
   "source": [
    "Q2. Notice that there are several categorical columns. You'll need to transform these to be able to do regression. Since `sex` and `smoker` are binary in this dataset, let's do them differently than `region` which has 4 options.\n",
    "\n",
    "* Use the Pandas [get_dummies()](https://pandas.pydata.org/docs/reference/api/pandas.get_dummies.html) function to one-hot-encode `sex` and `smoker`. \n",
    "* Since these features are binary, we do not need to create two columns for each of them (i.e. we do not need both smoker_yes and smoker_no - just having a smoker_yes column will be sufficient), so use the `drop_first` parameter of get_dummies to create only a `smoker_yes` and a `sex_male` column. \n",
    "* Display the head of the dataframe."
   ]
  },
  {
   "cell_type": "code",
   "execution_count": 4,
   "id": "0484464d",
   "metadata": {
    "scrolled": false
   },
   "outputs": [
    {
     "data": {
      "text/html": [
       "<div>\n",
       "<style scoped>\n",
       "    .dataframe tbody tr th:only-of-type {\n",
       "        vertical-align: middle;\n",
       "    }\n",
       "\n",
       "    .dataframe tbody tr th {\n",
       "        vertical-align: top;\n",
       "    }\n",
       "\n",
       "    .dataframe thead th {\n",
       "        text-align: right;\n",
       "    }\n",
       "</style>\n",
       "<table border=\"1\" class=\"dataframe\">\n",
       "  <thead>\n",
       "    <tr style=\"text-align: right;\">\n",
       "      <th></th>\n",
       "      <th>age</th>\n",
       "      <th>bmi</th>\n",
       "      <th>children</th>\n",
       "      <th>region</th>\n",
       "      <th>charges</th>\n",
       "      <th>sex_male</th>\n",
       "      <th>smoker_yes</th>\n",
       "    </tr>\n",
       "  </thead>\n",
       "  <tbody>\n",
       "    <tr>\n",
       "      <th>0</th>\n",
       "      <td>19</td>\n",
       "      <td>27.900</td>\n",
       "      <td>0</td>\n",
       "      <td>southwest</td>\n",
       "      <td>16884.92400</td>\n",
       "      <td>0</td>\n",
       "      <td>1</td>\n",
       "    </tr>\n",
       "    <tr>\n",
       "      <th>1</th>\n",
       "      <td>18</td>\n",
       "      <td>33.770</td>\n",
       "      <td>1</td>\n",
       "      <td>southeast</td>\n",
       "      <td>1725.55230</td>\n",
       "      <td>1</td>\n",
       "      <td>0</td>\n",
       "    </tr>\n",
       "    <tr>\n",
       "      <th>2</th>\n",
       "      <td>28</td>\n",
       "      <td>33.000</td>\n",
       "      <td>3</td>\n",
       "      <td>southeast</td>\n",
       "      <td>4449.46200</td>\n",
       "      <td>1</td>\n",
       "      <td>0</td>\n",
       "    </tr>\n",
       "    <tr>\n",
       "      <th>3</th>\n",
       "      <td>33</td>\n",
       "      <td>22.705</td>\n",
       "      <td>0</td>\n",
       "      <td>northwest</td>\n",
       "      <td>21984.47061</td>\n",
       "      <td>1</td>\n",
       "      <td>0</td>\n",
       "    </tr>\n",
       "    <tr>\n",
       "      <th>4</th>\n",
       "      <td>32</td>\n",
       "      <td>28.880</td>\n",
       "      <td>0</td>\n",
       "      <td>northwest</td>\n",
       "      <td>3866.85520</td>\n",
       "      <td>1</td>\n",
       "      <td>0</td>\n",
       "    </tr>\n",
       "  </tbody>\n",
       "</table>\n",
       "</div>"
      ],
      "text/plain": [
       "   age     bmi  children     region      charges  sex_male  smoker_yes\n",
       "0   19  27.900         0  southwest  16884.92400         0           1\n",
       "1   18  33.770         1  southeast   1725.55230         1           0\n",
       "2   28  33.000         3  southeast   4449.46200         1           0\n",
       "3   33  22.705         0  northwest  21984.47061         1           0\n",
       "4   32  28.880         0  northwest   3866.85520         1           0"
      ]
     },
     "execution_count": 4,
     "metadata": {},
     "output_type": "execute_result"
    }
   ],
   "source": [
    "# your code goes here\n",
    "data_dummy = pd.get_dummies(data, drop_first=True, columns=[\"sex\", \"smoker\"])\n",
    "data_dummy.head()"
   ]
  },
  {
   "cell_type": "markdown",
   "id": "11737757",
   "metadata": {},
   "source": [
    "Q3. Now one-hot encode the `region` feature by again using `get_dummies()`, but this time, even though we could drop one column, let's go ahead and explicitly keep all 4 values as columns (i.e. drop_first should be set to False). Display the head of the resulting dataframe."
   ]
  },
  {
   "cell_type": "code",
   "execution_count": 5,
   "id": "e0b43b2c",
   "metadata": {
    "scrolled": true
   },
   "outputs": [
    {
     "data": {
      "text/html": [
       "<div>\n",
       "<style scoped>\n",
       "    .dataframe tbody tr th:only-of-type {\n",
       "        vertical-align: middle;\n",
       "    }\n",
       "\n",
       "    .dataframe tbody tr th {\n",
       "        vertical-align: top;\n",
       "    }\n",
       "\n",
       "    .dataframe thead th {\n",
       "        text-align: right;\n",
       "    }\n",
       "</style>\n",
       "<table border=\"1\" class=\"dataframe\">\n",
       "  <thead>\n",
       "    <tr style=\"text-align: right;\">\n",
       "      <th></th>\n",
       "      <th>age</th>\n",
       "      <th>bmi</th>\n",
       "      <th>children</th>\n",
       "      <th>charges</th>\n",
       "      <th>sex_male</th>\n",
       "      <th>smoker_yes</th>\n",
       "      <th>region_northeast</th>\n",
       "      <th>region_northwest</th>\n",
       "      <th>region_southeast</th>\n",
       "      <th>region_southwest</th>\n",
       "    </tr>\n",
       "  </thead>\n",
       "  <tbody>\n",
       "    <tr>\n",
       "      <th>0</th>\n",
       "      <td>19</td>\n",
       "      <td>27.900</td>\n",
       "      <td>0</td>\n",
       "      <td>16884.92400</td>\n",
       "      <td>0</td>\n",
       "      <td>1</td>\n",
       "      <td>0</td>\n",
       "      <td>0</td>\n",
       "      <td>0</td>\n",
       "      <td>1</td>\n",
       "    </tr>\n",
       "    <tr>\n",
       "      <th>1</th>\n",
       "      <td>18</td>\n",
       "      <td>33.770</td>\n",
       "      <td>1</td>\n",
       "      <td>1725.55230</td>\n",
       "      <td>1</td>\n",
       "      <td>0</td>\n",
       "      <td>0</td>\n",
       "      <td>0</td>\n",
       "      <td>1</td>\n",
       "      <td>0</td>\n",
       "    </tr>\n",
       "    <tr>\n",
       "      <th>2</th>\n",
       "      <td>28</td>\n",
       "      <td>33.000</td>\n",
       "      <td>3</td>\n",
       "      <td>4449.46200</td>\n",
       "      <td>1</td>\n",
       "      <td>0</td>\n",
       "      <td>0</td>\n",
       "      <td>0</td>\n",
       "      <td>1</td>\n",
       "      <td>0</td>\n",
       "    </tr>\n",
       "    <tr>\n",
       "      <th>3</th>\n",
       "      <td>33</td>\n",
       "      <td>22.705</td>\n",
       "      <td>0</td>\n",
       "      <td>21984.47061</td>\n",
       "      <td>1</td>\n",
       "      <td>0</td>\n",
       "      <td>0</td>\n",
       "      <td>1</td>\n",
       "      <td>0</td>\n",
       "      <td>0</td>\n",
       "    </tr>\n",
       "    <tr>\n",
       "      <th>4</th>\n",
       "      <td>32</td>\n",
       "      <td>28.880</td>\n",
       "      <td>0</td>\n",
       "      <td>3866.85520</td>\n",
       "      <td>1</td>\n",
       "      <td>0</td>\n",
       "      <td>0</td>\n",
       "      <td>1</td>\n",
       "      <td>0</td>\n",
       "      <td>0</td>\n",
       "    </tr>\n",
       "  </tbody>\n",
       "</table>\n",
       "</div>"
      ],
      "text/plain": [
       "   age     bmi  children      charges  sex_male  smoker_yes  region_northeast  \\\n",
       "0   19  27.900         0  16884.92400         0           1                 0   \n",
       "1   18  33.770         1   1725.55230         1           0                 0   \n",
       "2   28  33.000         3   4449.46200         1           0                 0   \n",
       "3   33  22.705         0  21984.47061         1           0                 0   \n",
       "4   32  28.880         0   3866.85520         1           0                 0   \n",
       "\n",
       "   region_northwest  region_southeast  region_southwest  \n",
       "0                 0                 0                 1  \n",
       "1                 0                 1                 0  \n",
       "2                 0                 1                 0  \n",
       "3                 1                 0                 0  \n",
       "4                 1                 0                 0  "
      ]
     },
     "execution_count": 5,
     "metadata": {},
     "output_type": "execute_result"
    }
   ],
   "source": [
    "# your code goes here\n",
    "data_dummy = pd.get_dummies(data_dummy, columns=[\"region\"])\n",
    "data_dummy.head()"
   ]
  },
  {
   "cell_type": "markdown",
   "id": "38a13dc1",
   "metadata": {},
   "source": [
    "Q4. An interesting thing to check with regression problems is whether any of the individual features correlate very strongly with the label. Use the `corr()` method on the dataframe to take a look at this.\n",
    "\n",
    "Answer as a comment: Do you see any features with a strong correlation to the label?"
   ]
  },
  {
   "cell_type": "code",
   "execution_count": 6,
   "id": "6ad660fd",
   "metadata": {
    "scrolled": true
   },
   "outputs": [
    {
     "data": {
      "text/html": [
       "<div>\n",
       "<style scoped>\n",
       "    .dataframe tbody tr th:only-of-type {\n",
       "        vertical-align: middle;\n",
       "    }\n",
       "\n",
       "    .dataframe tbody tr th {\n",
       "        vertical-align: top;\n",
       "    }\n",
       "\n",
       "    .dataframe thead th {\n",
       "        text-align: right;\n",
       "    }\n",
       "</style>\n",
       "<table border=\"1\" class=\"dataframe\">\n",
       "  <thead>\n",
       "    <tr style=\"text-align: right;\">\n",
       "      <th></th>\n",
       "      <th>age</th>\n",
       "      <th>bmi</th>\n",
       "      <th>children</th>\n",
       "      <th>charges</th>\n",
       "      <th>sex_male</th>\n",
       "      <th>smoker_yes</th>\n",
       "      <th>region_northeast</th>\n",
       "      <th>region_northwest</th>\n",
       "      <th>region_southeast</th>\n",
       "      <th>region_southwest</th>\n",
       "    </tr>\n",
       "  </thead>\n",
       "  <tbody>\n",
       "    <tr>\n",
       "      <th>age</th>\n",
       "      <td>1.000000</td>\n",
       "      <td>0.109272</td>\n",
       "      <td>0.042469</td>\n",
       "      <td>0.299008</td>\n",
       "      <td>-0.020856</td>\n",
       "      <td>-0.025019</td>\n",
       "      <td>0.002475</td>\n",
       "      <td>-0.000407</td>\n",
       "      <td>-0.011642</td>\n",
       "      <td>0.010016</td>\n",
       "    </tr>\n",
       "    <tr>\n",
       "      <th>bmi</th>\n",
       "      <td>0.109272</td>\n",
       "      <td>1.000000</td>\n",
       "      <td>0.012759</td>\n",
       "      <td>0.198341</td>\n",
       "      <td>0.046371</td>\n",
       "      <td>0.003750</td>\n",
       "      <td>-0.138156</td>\n",
       "      <td>-0.135996</td>\n",
       "      <td>0.270025</td>\n",
       "      <td>-0.006205</td>\n",
       "    </tr>\n",
       "    <tr>\n",
       "      <th>children</th>\n",
       "      <td>0.042469</td>\n",
       "      <td>0.012759</td>\n",
       "      <td>1.000000</td>\n",
       "      <td>0.067998</td>\n",
       "      <td>0.017163</td>\n",
       "      <td>0.007673</td>\n",
       "      <td>-0.022808</td>\n",
       "      <td>0.024806</td>\n",
       "      <td>-0.023066</td>\n",
       "      <td>0.021914</td>\n",
       "    </tr>\n",
       "    <tr>\n",
       "      <th>charges</th>\n",
       "      <td>0.299008</td>\n",
       "      <td>0.198341</td>\n",
       "      <td>0.067998</td>\n",
       "      <td>1.000000</td>\n",
       "      <td>0.057292</td>\n",
       "      <td>0.787251</td>\n",
       "      <td>0.006349</td>\n",
       "      <td>-0.039905</td>\n",
       "      <td>0.073982</td>\n",
       "      <td>-0.043210</td>\n",
       "    </tr>\n",
       "    <tr>\n",
       "      <th>sex_male</th>\n",
       "      <td>-0.020856</td>\n",
       "      <td>0.046371</td>\n",
       "      <td>0.017163</td>\n",
       "      <td>0.057292</td>\n",
       "      <td>1.000000</td>\n",
       "      <td>0.076185</td>\n",
       "      <td>-0.002425</td>\n",
       "      <td>-0.011156</td>\n",
       "      <td>0.017117</td>\n",
       "      <td>-0.004184</td>\n",
       "    </tr>\n",
       "    <tr>\n",
       "      <th>smoker_yes</th>\n",
       "      <td>-0.025019</td>\n",
       "      <td>0.003750</td>\n",
       "      <td>0.007673</td>\n",
       "      <td>0.787251</td>\n",
       "      <td>0.076185</td>\n",
       "      <td>1.000000</td>\n",
       "      <td>0.002811</td>\n",
       "      <td>-0.036945</td>\n",
       "      <td>0.068498</td>\n",
       "      <td>-0.036945</td>\n",
       "    </tr>\n",
       "    <tr>\n",
       "      <th>region_northeast</th>\n",
       "      <td>0.002475</td>\n",
       "      <td>-0.138156</td>\n",
       "      <td>-0.022808</td>\n",
       "      <td>0.006349</td>\n",
       "      <td>-0.002425</td>\n",
       "      <td>0.002811</td>\n",
       "      <td>1.000000</td>\n",
       "      <td>-0.320177</td>\n",
       "      <td>-0.345561</td>\n",
       "      <td>-0.320177</td>\n",
       "    </tr>\n",
       "    <tr>\n",
       "      <th>region_northwest</th>\n",
       "      <td>-0.000407</td>\n",
       "      <td>-0.135996</td>\n",
       "      <td>0.024806</td>\n",
       "      <td>-0.039905</td>\n",
       "      <td>-0.011156</td>\n",
       "      <td>-0.036945</td>\n",
       "      <td>-0.320177</td>\n",
       "      <td>1.000000</td>\n",
       "      <td>-0.346265</td>\n",
       "      <td>-0.320829</td>\n",
       "    </tr>\n",
       "    <tr>\n",
       "      <th>region_southeast</th>\n",
       "      <td>-0.011642</td>\n",
       "      <td>0.270025</td>\n",
       "      <td>-0.023066</td>\n",
       "      <td>0.073982</td>\n",
       "      <td>0.017117</td>\n",
       "      <td>0.068498</td>\n",
       "      <td>-0.345561</td>\n",
       "      <td>-0.346265</td>\n",
       "      <td>1.000000</td>\n",
       "      <td>-0.346265</td>\n",
       "    </tr>\n",
       "    <tr>\n",
       "      <th>region_southwest</th>\n",
       "      <td>0.010016</td>\n",
       "      <td>-0.006205</td>\n",
       "      <td>0.021914</td>\n",
       "      <td>-0.043210</td>\n",
       "      <td>-0.004184</td>\n",
       "      <td>-0.036945</td>\n",
       "      <td>-0.320177</td>\n",
       "      <td>-0.320829</td>\n",
       "      <td>-0.346265</td>\n",
       "      <td>1.000000</td>\n",
       "    </tr>\n",
       "  </tbody>\n",
       "</table>\n",
       "</div>"
      ],
      "text/plain": [
       "                       age       bmi  children   charges  sex_male  \\\n",
       "age               1.000000  0.109272  0.042469  0.299008 -0.020856   \n",
       "bmi               0.109272  1.000000  0.012759  0.198341  0.046371   \n",
       "children          0.042469  0.012759  1.000000  0.067998  0.017163   \n",
       "charges           0.299008  0.198341  0.067998  1.000000  0.057292   \n",
       "sex_male         -0.020856  0.046371  0.017163  0.057292  1.000000   \n",
       "smoker_yes       -0.025019  0.003750  0.007673  0.787251  0.076185   \n",
       "region_northeast  0.002475 -0.138156 -0.022808  0.006349 -0.002425   \n",
       "region_northwest -0.000407 -0.135996  0.024806 -0.039905 -0.011156   \n",
       "region_southeast -0.011642  0.270025 -0.023066  0.073982  0.017117   \n",
       "region_southwest  0.010016 -0.006205  0.021914 -0.043210 -0.004184   \n",
       "\n",
       "                  smoker_yes  region_northeast  region_northwest  \\\n",
       "age                -0.025019          0.002475         -0.000407   \n",
       "bmi                 0.003750         -0.138156         -0.135996   \n",
       "children            0.007673         -0.022808          0.024806   \n",
       "charges             0.787251          0.006349         -0.039905   \n",
       "sex_male            0.076185         -0.002425         -0.011156   \n",
       "smoker_yes          1.000000          0.002811         -0.036945   \n",
       "region_northeast    0.002811          1.000000         -0.320177   \n",
       "region_northwest   -0.036945         -0.320177          1.000000   \n",
       "region_southeast    0.068498         -0.345561         -0.346265   \n",
       "region_southwest   -0.036945         -0.320177         -0.320829   \n",
       "\n",
       "                  region_southeast  region_southwest  \n",
       "age                      -0.011642          0.010016  \n",
       "bmi                       0.270025         -0.006205  \n",
       "children                 -0.023066          0.021914  \n",
       "charges                   0.073982         -0.043210  \n",
       "sex_male                  0.017117         -0.004184  \n",
       "smoker_yes                0.068498         -0.036945  \n",
       "region_northeast         -0.345561         -0.320177  \n",
       "region_northwest         -0.346265         -0.320829  \n",
       "region_southeast          1.000000         -0.346265  \n",
       "region_southwest         -0.346265          1.000000  "
      ]
     },
     "execution_count": 6,
     "metadata": {},
     "output_type": "execute_result"
    }
   ],
   "source": [
    "# your code goes here\n",
    "data_dummy.corr()\n",
    "\n",
    "# Yes, the feature with the strongest correlation is the \"smoker_yes\" feature, with\n",
    "# the second highest feature being \"age\". Out of the four regions, \n",
    "# region_southeast has the highest correlation. "
   ]
  },
  {
   "cell_type": "markdown",
   "id": "4b86aa6a",
   "metadata": {},
   "source": [
    "Q5. Create a plot to show the difference in charges between the smokers and the non-smokers. "
   ]
  },
  {
   "cell_type": "code",
   "execution_count": 7,
   "id": "2f3a1ce1",
   "metadata": {},
   "outputs": [
    {
     "data": {
      "text/plain": [
       "<AxesSubplot:xlabel='smoker_yes', ylabel='charges'>"
      ]
     },
     "execution_count": 7,
     "metadata": {},
     "output_type": "execute_result"
    },
    {
     "data": {
      "image/png": "[encoded data removed]",
      "text/plain": [
       "<Figure size 640x480 with 1 Axes>"
      ]
     },
     "metadata": {},
     "output_type": "display_data"
    }
   ],
   "source": [
    "# your code goes here\n",
    "data_dummy.plot(x=\"smoker_yes\", y=\"charges\", kind=\"scatter\")"
   ]
  },
  {
   "cell_type": "markdown",
   "id": "5ece359c",
   "metadata": {},
   "source": [
    "Q6. Let's explore the relationship between `age` and `charges`. Create a scatter plot of all data points to show age vs charges. \n",
    "\n",
    "Answer as a comment: What do you notice about the nature of this relationship?"
   ]
  },
  {
   "cell_type": "code",
   "execution_count": 8,
   "id": "78a4ddce",
   "metadata": {},
   "outputs": [
    {
     "data": {
      "text/plain": [
       "<AxesSubplot:xlabel='age', ylabel='charges'>"
      ]
     },
     "execution_count": 8,
     "metadata": {},
     "output_type": "execute_result"
    },
    {
     "data": {
      "image/png": "[encoded data removed]",
      "text/plain": [
       "<Figure size 640x480 with 1 Axes>"
      ]
     },
     "metadata": {},
     "output_type": "display_data"
    }
   ],
   "source": [
    "# your code goes here\n",
    "data_dummy.plot(kind=\"scatter\", x=\"age\", y=\"charges\")\n",
    "\n",
    "# While there's a slight positive trend as age increases,\n",
    "# the data for the most part is evenly distributed"
   ]
  },
  {
   "cell_type": "markdown",
   "id": "ce9b1624",
   "metadata": {},
   "source": [
    "#### Simple Linear Regression\n",
    "**Fit a simple linear regression model to predict `charges` from `age`.**\n",
    "\n",
    "Q7. \n",
    "* Grab the `age` column from the dataframe and call it something like `x`.\n",
    "* Grab the `charges` column from the dataframe and call it something like `y`.\n",
    "* When doing simple linear regression (one feature), you need to convert the features from a Series to a list of lists. You can do this by doing `x = x.values.reshape(-1,1)`, where the (-1,1) means (all rows, one column). \n",
    "* Do the same to the labels (`y = y.values.reshape(-1,1)`). \n",
    "* Verify that you have a list of lists for both x and y."
   ]
  },
  {
   "cell_type": "code",
   "execution_count": 9,
   "id": "a012a960",
   "metadata": {
    "scrolled": true
   },
   "outputs": [
    {
     "name": "stdout",
     "output_type": "stream",
     "text": [
      "Age:  [[19]\n",
      " [18]\n",
      " [28]\n",
      " ...\n",
      " [18]\n",
      " [21]\n",
      " [61]]\n",
      "Charges:  [[16884.924 ]\n",
      " [ 1725.5523]\n",
      " [ 4449.462 ]\n",
      " ...\n",
      " [ 1629.8335]\n",
      " [ 2007.945 ]\n",
      " [29141.3603]]\n"
     ]
    }
   ],
   "source": [
    "# your code goes here\n",
    "x_age = data_dummy.age.values.reshape(-1,1)\n",
    "y_charges = data.charges.values.reshape(-1,1)\n",
    "print(\"Age: \", x_age)\n",
    "print(\"Charges: \", y_charges)"
   ]
  },
  {
   "cell_type": "markdown",
   "id": "08424490",
   "metadata": {},
   "source": [
    "**Using the holdout method**\n",
    "\n",
    "Q8. Use [sklearn.model_selection.train_test_split](https://scikit-learn.org/stable/modules/generated/sklearn.model_selection.train_test_split.html) to split your dataset into training and test sets. Do an 80%-20% split. Display how many records are in the training set and how many are in the test set. Set the random_state argument to your favorite number."
   ]
  },
  {
   "cell_type": "code",
   "execution_count": 10,
   "id": "e9c24d71",
   "metadata": {
    "scrolled": true
   },
   "outputs": [
    {
     "name": "stdout",
     "output_type": "stream",
     "text": [
      "Age train size: 1070, Age test size: 268, Charges train size: 1070, Chargest test size: 268\n"
     ]
    }
   ],
   "source": [
    "from sklearn.model_selection import train_test_split\n",
    "\n",
    "# your code goes here\n",
    "age_train, age_test, charges_train, charges_test = train_test_split(x_age, y_charges, test_size=.20, random_state=999)\n",
    "print(f\"Age train size: {len(age_train)}, Age test size: {len(age_test)}, Charges train size: {len(charges_train)}, Chargest test size: {len(charges_test)}\")\n"
   ]
  },
  {
   "cell_type": "markdown",
   "id": "cffda89c",
   "metadata": {},
   "source": [
    "Q9. \n",
    "* Create a [sklearn.linear_model.LinearRegression](https://scikit-learn.org/stable/modules/generated/sklearn.linear_model.LinearRegression.html) object. \n",
    "* Call `fit` on it and pass in the training set.\n",
    "* Print the slope and the intercept of the equation with the `.coef_` and `.intercept_` attributes. "
   ]
  },
  {
   "cell_type": "code",
   "execution_count": 11,
   "id": "caa8b841",
   "metadata": {},
   "outputs": [
    {
     "name": "stdout",
     "output_type": "stream",
     "text": [
      "Slope: [[264.9145888]], Intercept: [2753.14066488]\n"
     ]
    }
   ],
   "source": [
    "from sklearn.linear_model import LinearRegression\n",
    "\n",
    "# your code goes here\n",
    "reg = LinearRegression().fit(age_train, charges_train)\n",
    "print(f\"Slope: {reg.coef_}, Intercept: {reg.intercept_}\")"
   ]
  },
  {
   "cell_type": "markdown",
   "id": "c0695225",
   "metadata": {},
   "source": [
    "Q10. Now that you've fit the model on the training set, you can evaluate it on the test set. Call `predict` on the linear regression object and pass in the test set. Save the return value - these are all of the predicted values under the model for the test set. \n",
    "\n",
    "Compute some metrics to see how well this model fits the test data. Use `sklearn.metrics` to print out the MAE, MSE, RMSE, and R2 for the test set under this model. Remember that you have the actual y values for your test set, up in Q8.  "
   ]
  },
  {
   "cell_type": "code",
   "execution_count": 12,
   "id": "fe8b56fd",
   "metadata": {},
   "outputs": [
    {
     "name": "stdout",
     "output_type": "stream",
     "text": [
      "MAE: 9196.569756881094, MSE: 137770531.13114867, RMSE: 11737.569217310229, r2: 0.06249802034377028\n"
     ]
    }
   ],
   "source": [
    "import sklearn.metrics as metrics\n",
    "\n",
    "# your code goes here\n",
    "predicted_values = reg.predict(age_test)\n",
    "\n",
    "mae = metrics.mean_absolute_error(charges_test, predicted_values)\n",
    "mse = metrics.mean_squared_error(charges_test, predicted_values, squared=True)\n",
    "rmse = metrics.mean_squared_error(charges_test, predicted_values, squared=False)\n",
    "r_two = metrics.r2_score(charges_test, predicted_values)\n",
    "\n",
    "\n",
    "print(f\"MAE: {mae}, MSE: {mse}, RMSE: {rmse}, r2: {r_two}\")"
   ]
  },
  {
   "cell_type": "markdown",
   "id": "cb8c799f",
   "metadata": {},
   "source": [
    "Q11. Let's see what the best fit line looks like with the test data. Scatter-plot the test data (x_test, y_test). Then line-plot the model predictions for the test data (x_test, y_test_preds). "
   ]
  },
  {
   "cell_type": "code",
   "execution_count": 13,
   "id": "2b64976f",
   "metadata": {},
   "outputs": [
    {
     "data": {
      "text/plain": [
       "[<matplotlib.lines.Line2D at 0x1f5647bcd00>]"
      ]
     },
     "execution_count": 13,
     "metadata": {},
     "output_type": "execute_result"
    },
    {
     "data": {
      "image/png": "[encoded data removed]",
      "text/plain": [
       "<Figure size 640x480 with 1 Axes>"
      ]
     },
     "metadata": {},
     "output_type": "display_data"
    }
   ],
   "source": [
    "# your code goes here\n",
    "\n",
    "plt.scatter(x=age_test, y=charges_test)\n",
    "plt.plot(age_test, predicted_values)"
   ]
  },
  {
   "cell_type": "code",
   "execution_count": 14,
   "id": "3c94adba",
   "metadata": {},
   "outputs": [
    {
     "name": "stdout",
     "output_type": "stream",
     "text": [
      "Slope: [[238.37156961]], Intercept: [3882.85867889]\n"
     ]
    },
    {
     "data": {
      "text/plain": [
       "[<matplotlib.lines.Line2D at 0x1f5647f4760>]"
      ]
     },
     "execution_count": 14,
     "metadata": {},
     "output_type": "execute_result"
    },
    {
     "data": {
      "image/png": "[encoded data removed]",
      "text/plain": [
       "<Figure size 640x480 with 1 Axes>"
      ]
     },
     "metadata": {},
     "output_type": "display_data"
    }
   ],
   "source": [
    "#meowdeletethislater\n",
    "# your code goes here\n",
    "age_train, age_test, charges_train, charges_test = train_test_split(x_age, y_charges, test_size=.20, random_state=0)\n",
    "\n",
    "reg = LinearRegression().fit(age_train, charges_train)\n",
    "\n",
    "predicted_values = reg.predict(age_test)\n",
    "\n",
    "mae = metrics.mean_absolute_error(charges_test, predicted_values)\n",
    "mse = metrics.mean_squared_error(charges_test, predicted_values, squared=True)\n",
    "rmse = metrics.mean_squared_error(charges_test, predicted_values, squared=False)\n",
    "r_two = metrics.r2_score(charges_test, predicted_values)\n",
    "\n",
    "print(f\"Slope: {reg.coef_}, Intercept: {reg.intercept_}\")\n",
    "plt.scatter(x=age_test, y=charges_test)\n",
    "plt.plot(age_test, predicted_values)\n"
   ]
  },
  {
   "cell_type": "markdown",
   "id": "308eb6bf",
   "metadata": {},
   "source": [
    "Q12. Now, go back up to your Q8, change the random_state to a different number, and re-run Q9, Q10, Q11. \n",
    "\n",
    "Answer as a comment: What happened and why?"
   ]
  },
  {
   "cell_type": "code",
   "execution_count": null,
   "id": "82a24492",
   "metadata": {},
   "outputs": [],
   "source": [
    "# answer as a comment here\n",
    "# I think we detected a really small change in the best fit line. \n",
    "# I say think because the change was so small it could have been our eyes playing tricks.\n",
    "\n",
    "# Why? \n",
    "# Changing randomness in the model shows that there is little to no change in the model. \n",
    "# Slope and intercept only slightly change when the random_state is modified."
   ]
  },
  {
   "cell_type": "markdown",
   "id": "99d04b36",
   "metadata": {},
   "source": [
    "**Using cross-validation**\n",
    "\n",
    "Q13. Use `sklearn.model_selection.cross_val_score` to perform 5-fold cross validation on a simple linear regression model. \n",
    "\n",
    "You will pass the FULL dataset (x and y from before the train/test split in Q8) into `cross_val_score` which will automatically divide it into the number of folds you tell it to, fit a linear regression model to the training set for each fold, and test it on the test set for each fold. It will return a numpy array with the R2 on the test set for each fold. Average these R2 scores to print out the generalization estimate of the model.\n",
    "\n",
    "On average, after 5 trials with 5 different test sets, this is how well we think a linear regression of using `age` to predict `charges` will work. "
   ]
  },
  {
   "cell_type": "code",
   "execution_count": 15,
   "id": "c5b417e6",
   "metadata": {},
   "outputs": [
    {
     "name": "stdout",
     "output_type": "stream",
     "text": [
      "Cross validation score: 0.08821241573294034\n"
     ]
    }
   ],
   "source": [
    "from sklearn.model_selection import cross_val_score\n",
    "import numpy as num\n",
    "# your code goes here\n",
    "score = cross_val_score(reg, x_age, y_charges)\n",
    "print(\"Cross validation score:\", num.average(score))"
   ]
  },
  {
   "cell_type": "markdown",
   "id": "eed2a22c",
   "metadata": {},
   "source": [
    "#### Multiple Linear Regression\n",
    "**Fit a multiple linear regression model to predict `charges` from `age` and `smoker`.**"
   ]
  },
  {
   "cell_type": "markdown",
   "id": "2b3b2aa1",
   "metadata": {},
   "source": [
    "Q14. Now let's see if we can get a better model by including another feature.\n",
    "* From the one-hot-encoded dataframe (the result of Q3), grab both the `age` and `smoker_yes` columns. Call it something like x. \n",
    "* (No need to call a reshape this time, since it is multi-dimensional data now.)\n",
    "* You already have the y's.\n",
    "* Create a new `sklearn.linear_model.LinearRegression` object. (Or you can re-use the one you already have.)\n",
    "* Pass it all into a `sklearn.model_selection.cross_val_score` with a 5-fold CV.\n",
    "* Print out the average R2.\n",
    "* Once we get into **multiple** linear regression, we should not use R2, we should instead use adjusted-R2. Use the provided (at the top of the file) `get_adj_R2()` function to print out the adjusted R2. (Note, this value will be very close to the R2 because our `n` is large and our `p` is small.)\n",
    "\n",
    "Answer as a comment: What happens when you include `smoker_yes`?"
   ]
  },
  {
   "cell_type": "code",
   "execution_count": 16,
   "id": "6c1db535",
   "metadata": {},
   "outputs": [
    {
     "name": "stdout",
     "output_type": "stream",
     "text": [
      "Average R2: 0.7191692504028052\n",
      "Adjusted R2: 0.7185376969929165\n"
     ]
    }
   ],
   "source": [
    "#double check when it is no longer 6 am \n",
    "# your code goes here\n",
    "x_age_smoker = data_dummy[[\"age\", \"smoker_yes\"]]\n",
    "x_train2, x_test2, y_train2, y_test2 = train_test_split(x_age_smoker, y_charges, test_size=.20, random_state=0)\n",
    "#reg2 = LinearRegression()#.fit(x_train2, y_train2)\n",
    "\n",
    "score2 = cross_val_score(reg, x_age_smoker, y_charges)\n",
    "print(\"Average R2:\", num.average(score2))\n",
    "\n",
    "adj_r_two_2 = get_adj_r2(num.average(score2), len(y_charges), 3)\n",
    "print(\"Adjusted R2:\", adj_r_two_2)\n",
    "\n",
    "# When including smoker_yes, the R2 score significantly increases."
   ]
  },
  {
   "cell_type": "markdown",
   "id": "e7bdb411",
   "metadata": {},
   "source": [
    "Q15. Let's go one more step and see if including ALL of our features is even better at predicting the `charges` than using just `age` and `smoker`.\n",
    "\n",
    "* From the one-hot-encoded dataframe (the result of Q3), grab all the features, but NOT the target. Call it something like x.\n",
    "* (No need to call a reshape this time, since it is multi-dimensional data now.)\n",
    "* You already have the y's.\n",
    "* Create a new sklearn.linear_model.LinearRegression object. (Or you can re-use the one you already have.)\n",
    "* Pass it all into a sklearn.model_selection.cross_val_score with a 5-fold CV.\n",
    "* Print out the average R2 and the adjusted R2."
   ]
  },
  {
   "cell_type": "code",
   "execution_count": 18,
   "id": "4dbef0e5",
   "metadata": {
    "scrolled": true
   },
   "outputs": [
    {
     "name": "stdout",
     "output_type": "stream",
     "text": [
      "Average R2:  0.746861624347374\n",
      "Adjusted R2: 0.7449540254351463\n"
     ]
    }
   ],
   "source": [
    "# your code goes here\n",
    "x_all = data_dummy.loc[:, data_dummy.columns != 'charges']\n",
    "x_train3, x_test3, y_train3, y_test3 = train_test_split(x_all, y_charges, test_size=.20, random_state=0)\n",
    "#reg3 = LinearRegression().fit(x_train3, y_train3)\n",
    "score3 = cross_val_score(reg, x_all, y_charges)\n",
    "print(\"Average R2: \", num.average(score3))\n",
    "\n",
    "adj_r_two_3 = get_adj_r2(num.average(score3), len(y_charges), 10)\n",
    "print(\"Adjusted R2:\", adj_r_two_3)"
   ]
  },
  {
   "cell_type": "markdown",
   "id": "f3c60daf",
   "metadata": {},
   "source": [
    "Q16. Build the final model on the entire dataset. \n",
    "* You should already have your x from the previous question (Q15).\n",
    "* You already have the y's.\n",
    "* Create a new `sklearn.linear_model.LinearRegression` object, or you can re-use the one you already have.\n",
    "* Call `fit` and pass in all the data (x, y).\n",
    "* Print out the coefficients and the intercept of the fitted model. The coefficients correspond to the the order in which the features are in the dataframe (x).\n",
    "\n",
    "This defines your multiple linear regression equation! "
   ]
  },
  {
   "cell_type": "code",
   "execution_count": 19,
   "id": "03cfb422",
   "metadata": {
    "scrolled": true
   },
   "outputs": [
    {
     "name": "stdout",
     "output_type": "stream",
     "text": [
      "Coefficients: [[  256.85635254   339.19345361   475.50054515  -131.3143594\n",
      "  23848.53454191   587.00923503   234.0453356   -448.01281436\n",
      "   -373.04175627]], \n",
      "Intercept: [-12525.5478112]\n"
     ]
    }
   ],
   "source": [
    "# your code goes here\n",
    "reg_final = LinearRegression().fit(x_all, y_charges)\n",
    "print(f\"Coefficients: {reg_final.coef_}, \\nIntercept: {reg_final.intercept_}\")"
   ]
  },
  {
   "cell_type": "markdown",
   "id": "c08d42fc",
   "metadata": {},
   "source": [
    "## Part 2: K-Nearest Neighbors from scratch\n",
    "\n",
    "In this part of the assignment you'll implement the K-Nearest Neighbors (KNN) classification algorithm to classify patients as either having or not having diabetic retinopathy. For this task we'll be using the same Diabetic Retinopathy data set which was used in the previous assignment on decision trees. "
   ]
  },
  {
   "cell_type": "markdown",
   "id": "f04ffa20",
   "metadata": {},
   "source": [
    "You may use the following function to print a confusion matrix:"
   ]
  },
  {
   "cell_type": "code",
   "execution_count": 20,
   "id": "acc4cd14",
   "metadata": {},
   "outputs": [],
   "source": [
    "def print_confusion_matrix(TP, FN, FP, TN):\n",
    "    \n",
    "    table_data = [[TP,FN],[FP,TN]]\n",
    "    df = pd.DataFrame(table_data, columns =['Predicted 1','Predicted 0'])\n",
    "    df = df.rename(index={0: 'Actual 1', 1: 'Actual 0'})\n",
    "    display(df)"
   ]
  },
  {
   "cell_type": "code",
   "execution_count": 21,
   "id": "4eb2b554",
   "metadata": {},
   "outputs": [],
   "source": [
    "# you may use these constants if you want\n",
    "LABEL_COLUMN = 19\n",
    "BINARY_COLUMNS = {0,1,18}"
   ]
  },
  {
   "cell_type": "markdown",
   "id": "7edf52cf",
   "metadata": {},
   "source": [
    "Q1. Normalize the data so that each feature value lies between `[0-1]`.\n",
    "\n",
    "In class, we talked about why scaling the data is critical to KNN. We also talked about how data scaling should be done *inside the cross validataion loop*. This means that the scaling parameters should be based on the **training set only**, in order to prevent data leakage. Then the test data will need to be scaled, using the parameters found on the **training** data.\n",
    "\n",
    "Fill in the function to take in a training dataset and a test dataset and normalize them correctly. Return the normalized datasets.\n",
    "\n",
    "Caution: Return NEW datasets that have been normalized - do not normalize the datasets in-place, so that this can be run numerous times without altering the original data or normalizing already normalized data.\n",
    "\n",
    "Hint: When using dataframes, you can do this without a loop!"
   ]
  },
  {
   "cell_type": "code",
   "execution_count": 75,
   "id": "f2521ea4",
   "metadata": {},
   "outputs": [],
   "source": [
    "\n",
    "\n",
    "def normalize_data(train, test):\n",
    "    train_norm = (train - train.min()) / (train.max() - train.min())\n",
    "    test_norm = (test - train.min()) / (train.max() - train.min())\n",
    "    return train_norm, test_norm"
   ]
  },
  {
   "cell_type": "markdown",
   "id": "acbcfd93",
   "metadata": {},
   "source": [
    "Q2. The distance calculation method is central to the KNN algorithm. In this assignment you'll be using the Euclidean distance. \n",
    "\n",
    "Implement a function that takes in one data point (as a list), and the training data (as a dataframe), and calculates the Euclidian distance from the single data point to each of the data points in the training data.\n",
    "\n",
    "You may return these however you want (or may add them to the dataframe?).\n",
    "\n",
    "Hint: \n",
    "For KNN, the distance calculations are the most time-consuming part of the algorithm. Even though computing Euclidian distance seems like a simple, and therefore quick, calculation, running it thousands of times, inside of a nested 5-fold cross-validation for example, can cause this algorithm to take a very long time to run, depending on your implementation. \n",
    "\n",
    "Remember, you almost never need to loop a Dataframe! Pandas DataFrames have been specifically optimized for fast operations on large datasets, by [vectorizing](https://www.quantifisolutions.com/vectorization-part-2-why-and-what) calculations across all rows at once.\n",
    "\n",
    "If you use a DataFrame, you should not write a loop to calculate each of the Euclidian distances one at a time. Look at [this post](https://stackoverflow.com/questions/46908388/find-euclidean-distance-from-a-point-to-rows-in-pandas-dataframe?rq=1) for more info.\n",
    "\n",
    "Caution: Be careful not to use the label in your distance calculation."
   ]
  },
  {
   "cell_type": "code",
   "execution_count": 77,
   "id": "8568727f",
   "metadata": {},
   "outputs": [],
   "source": [
    "import numpy as np\n",
    "\n",
    "def get_distances(point, df):\n",
    "    # drop the label column from the df\n",
    "    df = df.drop(columns=[LABEL_COLUMN])\n",
    "    # calculate distance between point and all other points\n",
    "    distances = np.sqrt(((df - point)**2).sum(axis=1))\n",
    "    return distances"
   ]
  },
  {
   "cell_type": "markdown",
   "id": "3e91c9c3",
   "metadata": {},
   "source": [
    "Q3. Build your KNN classifier.\n",
    "\n",
    "This function takes in a training set (as a dataframe), a test set (as a dataframe), and a k to use, and classifies all data points in the test set, using the data in the training set and the given k.\n",
    "\n",
    "It should return the predicted labels for the test set as a list.\n",
    "\n",
    "Caution: Remember to normalize your data before doing distance calculations."
   ]
  },
  {
   "cell_type": "code",
   "execution_count": 74,
   "id": "6330af96",
   "metadata": {},
   "outputs": [],
   "source": [
    "def run_knn(train_set, test_set, k):\n",
    "    # normalize the data\n",
    "    train_norm, test_norm = normalize_data(train_set, test_set)\n",
    "    \n",
    "    predictions = []\n",
    "    \n",
    "    for i, test_point in test_norm.iterrows():\n",
    "        distances = get_distances(test_point, train_norm)\n",
    "        # get the k nearest neighbors\n",
    "        nearest_neighbors = train_set.iloc[distances.argsort()[:k]]\n",
    "        # predict based on majority vote\n",
    "        prediction = nearest_neighbors[LABEL_COLUMN].mode().iloc[0]\n",
    "        predictions.append(prediction)\n",
    "        \n",
    "    return predictions"
   ]
  },
  {
   "cell_type": "markdown",
   "id": "b80cc7f6",
   "metadata": {},
   "source": [
    "Q4. Find the best value of k for this data. \n",
    "\n",
    "Try k ranging from 1 to 10 (odds only). For each k value, use a 5-fold cross validation to evaluate the accuracy with that k. In each fold of CV, divide your data into a training set and a validation set. Print out the best value of k and the accuracy achieved with that value. Return the best value of k. If there is a tie for best k, use the lowest of the k values.\n",
    "\n",
    "Hint: This is the *inner* loop of a nested cross validation."
   ]
  },
  {
   "cell_type": "code",
   "execution_count": 89,
   "id": "70de520e",
   "metadata": {},
   "outputs": [],
   "source": [
    "from sklearn.model_selection import KFold\n",
    "\n",
    "def find_best_k(data):\n",
    "    kf = KFold(n_splits=5)\n",
    "    best_k = 0\n",
    "    best_accuracy = 0\n",
    "    \n",
    "    for k in range(1, 11, 2):\n",
    "        accuracies = []\n",
    "        \n",
    "        for train_index, val_index in kf.split(data):\n",
    "            train_set = data.iloc[train_index]\n",
    "            val_set = data.iloc[val_index]\n",
    "            \n",
    "            # normalize the data\n",
    "            train_norm, val_norm = normalize_data(train_set, val_set)\n",
    "            \n",
    "            # get predictions for the validation set\n",
    "            val_predictions = run_knn(train_norm, val_norm, k)\n",
    "            \n",
    "            # calculate accuracy\n",
    "            accuracy = sum(val_predictions == val_set[LABEL_COLUMN]) / len(val_set)\n",
    "            accuracies.append(accuracy)\n",
    "        \n",
    "        avg_accuracy = sum(accuracies) / len(accuracies)\n",
    "        if avg_accuracy > best_accuracy:\n",
    "            best_accuracy = avg_accuracy\n",
    "            best_k = k\n",
    "    \n",
    "    print(f\"Best k: {best_k}\")\n",
    "    print(f\"Accuracy: {best_accuracy}\")\n",
    "    \n",
    "    return best_k"
   ]
  },
  {
   "cell_type": "markdown",
   "id": "5da24b15",
   "metadata": {},
   "source": [
    "Q5. Now measure the accuracy of your classifier using 5-fold cross validation. \n",
    "\n",
    "In each fold of this CV, divide your data into a training set and a test set. The training set should get sent through your code for Q4, resulting in a value of k to use. Using that k, calculate an accuracy on the test set. You will average the accuracy over all 5 folds to obtain the final accuracy measurement. \n",
    "\n",
    "Print the accuracy, the confusion matrix, and the precision and recall for class label 1 (patients that have been diagnosed with the disease)."
   ]
  },
  {
   "cell_type": "code",
   "execution_count": 90,
   "id": "8a77f17b",
   "metadata": {},
   "outputs": [
    {
     "name": "stdout",
     "output_type": "stream",
     "text": [
      "Fold 1...\n",
      "Best k: 7\n",
      "Accuracy: 0.6402173913043476\n",
      "Accuracy: 0.617\n",
      "Precision for class 1: 0.672\n",
      "Recall for class 1: 0.609\n",
      "Confusion Matrix:\n"
     ]
    },
    {
     "data": {
      "text/html": [
       "<div>\n",
       "<style scoped>\n",
       "    .dataframe tbody tr th:only-of-type {\n",
       "        vertical-align: middle;\n",
       "    }\n",
       "\n",
       "    .dataframe tbody tr th {\n",
       "        vertical-align: top;\n",
       "    }\n",
       "\n",
       "    .dataframe thead th {\n",
       "        text-align: right;\n",
       "    }\n",
       "</style>\n",
       "<table border=\"1\" class=\"dataframe\">\n",
       "  <thead>\n",
       "    <tr style=\"text-align: right;\">\n",
       "      <th></th>\n",
       "      <th>Predicted 1</th>\n",
       "      <th>Predicted 0</th>\n",
       "    </tr>\n",
       "  </thead>\n",
       "  <tbody>\n",
       "    <tr>\n",
       "      <th>Actual 1</th>\n",
       "      <td>64</td>\n",
       "      <td>38</td>\n",
       "    </tr>\n",
       "    <tr>\n",
       "      <th>Actual 0</th>\n",
       "      <td>50</td>\n",
       "      <td>78</td>\n",
       "    </tr>\n",
       "  </tbody>\n",
       "</table>\n",
       "</div>"
      ],
      "text/plain": [
       "          Predicted 1  Predicted 0\n",
       "Actual 1           64           38\n",
       "Actual 0           50           78"
      ]
     },
     "metadata": {},
     "output_type": "display_data"
    },
    {
     "name": "stdout",
     "output_type": "stream",
     "text": [
      "Fold 2...\n",
      "Best k: 5\n",
      "Accuracy: 0.6347826086956522\n",
      "Accuracy: 0.622\n",
      "Precision for class 1: 0.684\n",
      "Recall for class 1: 0.545\n",
      "Confusion Matrix:\n"
     ]
    },
    {
     "data": {
      "text/html": [
       "<div>\n",
       "<style scoped>\n",
       "    .dataframe tbody tr th:only-of-type {\n",
       "        vertical-align: middle;\n",
       "    }\n",
       "\n",
       "    .dataframe tbody tr th {\n",
       "        vertical-align: top;\n",
       "    }\n",
       "\n",
       "    .dataframe thead th {\n",
       "        text-align: right;\n",
       "    }\n",
       "</style>\n",
       "<table border=\"1\" class=\"dataframe\">\n",
       "  <thead>\n",
       "    <tr style=\"text-align: right;\">\n",
       "      <th></th>\n",
       "      <th>Predicted 1</th>\n",
       "      <th>Predicted 0</th>\n",
       "    </tr>\n",
       "  </thead>\n",
       "  <tbody>\n",
       "    <tr>\n",
       "      <th>Actual 1</th>\n",
       "      <td>76</td>\n",
       "      <td>31</td>\n",
       "    </tr>\n",
       "    <tr>\n",
       "      <th>Actual 0</th>\n",
       "      <td>56</td>\n",
       "      <td>67</td>\n",
       "    </tr>\n",
       "  </tbody>\n",
       "</table>\n",
       "</div>"
      ],
      "text/plain": [
       "          Predicted 1  Predicted 0\n",
       "Actual 1           76           31\n",
       "Actual 0           56           67"
      ]
     },
     "metadata": {},
     "output_type": "display_data"
    },
    {
     "name": "stdout",
     "output_type": "stream",
     "text": [
      "Fold 3...\n",
      "Best k: 9\n",
      "Accuracy: 0.6228260869565216\n",
      "Accuracy: 0.643\n",
      "Precision for class 1: 0.683\n",
      "Recall for class 1: 0.592\n",
      "Confusion Matrix:\n"
     ]
    },
    {
     "data": {
      "text/html": [
       "<div>\n",
       "<style scoped>\n",
       "    .dataframe tbody tr th:only-of-type {\n",
       "        vertical-align: middle;\n",
       "    }\n",
       "\n",
       "    .dataframe tbody tr th {\n",
       "        vertical-align: top;\n",
       "    }\n",
       "\n",
       "    .dataframe thead th {\n",
       "        text-align: right;\n",
       "    }\n",
       "</style>\n",
       "<table border=\"1\" class=\"dataframe\">\n",
       "  <thead>\n",
       "    <tr style=\"text-align: right;\">\n",
       "      <th></th>\n",
       "      <th>Predicted 1</th>\n",
       "      <th>Predicted 0</th>\n",
       "    </tr>\n",
       "  </thead>\n",
       "  <tbody>\n",
       "    <tr>\n",
       "      <th>Actual 1</th>\n",
       "      <td>77</td>\n",
       "      <td>33</td>\n",
       "    </tr>\n",
       "    <tr>\n",
       "      <th>Actual 0</th>\n",
       "      <td>49</td>\n",
       "      <td>71</td>\n",
       "    </tr>\n",
       "  </tbody>\n",
       "</table>\n",
       "</div>"
      ],
      "text/plain": [
       "          Predicted 1  Predicted 0\n",
       "Actual 1           77           33\n",
       "Actual 0           49           71"
      ]
     },
     "metadata": {},
     "output_type": "display_data"
    },
    {
     "name": "stdout",
     "output_type": "stream",
     "text": [
      "Fold 4...\n",
      "Best k: 9\n",
      "Accuracy: 0.6543478260869564\n",
      "Accuracy: 0.596\n",
      "Precision for class 1: 0.645\n",
      "Recall for class 1: 0.556\n",
      "Confusion Matrix:\n"
     ]
    },
    {
     "data": {
      "text/html": [
       "<div>\n",
       "<style scoped>\n",
       "    .dataframe tbody tr th:only-of-type {\n",
       "        vertical-align: middle;\n",
       "    }\n",
       "\n",
       "    .dataframe tbody tr th {\n",
       "        vertical-align: top;\n",
       "    }\n",
       "\n",
       "    .dataframe thead th {\n",
       "        text-align: right;\n",
       "    }\n",
       "</style>\n",
       "<table border=\"1\" class=\"dataframe\">\n",
       "  <thead>\n",
       "    <tr style=\"text-align: right;\">\n",
       "      <th></th>\n",
       "      <th>Predicted 1</th>\n",
       "      <th>Predicted 0</th>\n",
       "    </tr>\n",
       "  </thead>\n",
       "  <tbody>\n",
       "    <tr>\n",
       "      <th>Actual 1</th>\n",
       "      <td>68</td>\n",
       "      <td>38</td>\n",
       "    </tr>\n",
       "    <tr>\n",
       "      <th>Actual 0</th>\n",
       "      <td>55</td>\n",
       "      <td>69</td>\n",
       "    </tr>\n",
       "  </tbody>\n",
       "</table>\n",
       "</div>"
      ],
      "text/plain": [
       "          Predicted 1  Predicted 0\n",
       "Actual 1           68           38\n",
       "Actual 0           55           69"
      ]
     },
     "metadata": {},
     "output_type": "display_data"
    },
    {
     "name": "stdout",
     "output_type": "stream",
     "text": [
      "Fold 5...\n",
      "Best k: 5\n",
      "Accuracy: 0.6239130434782608\n",
      "Accuracy: 0.626\n",
      "Precision for class 1: 0.619\n",
      "Recall for class 1: 0.672\n",
      "Confusion Matrix:\n"
     ]
    },
    {
     "data": {
      "text/html": [
       "<div>\n",
       "<style scoped>\n",
       "    .dataframe tbody tr th:only-of-type {\n",
       "        vertical-align: middle;\n",
       "    }\n",
       "\n",
       "    .dataframe tbody tr th {\n",
       "        vertical-align: top;\n",
       "    }\n",
       "\n",
       "    .dataframe thead th {\n",
       "        text-align: right;\n",
       "    }\n",
       "</style>\n",
       "<table border=\"1\" class=\"dataframe\">\n",
       "  <thead>\n",
       "    <tr style=\"text-align: right;\">\n",
       "      <th></th>\n",
       "      <th>Predicted 1</th>\n",
       "      <th>Predicted 0</th>\n",
       "    </tr>\n",
       "  </thead>\n",
       "  <tbody>\n",
       "    <tr>\n",
       "      <th>Actual 1</th>\n",
       "      <td>66</td>\n",
       "      <td>48</td>\n",
       "    </tr>\n",
       "    <tr>\n",
       "      <th>Actual 0</th>\n",
       "      <td>38</td>\n",
       "      <td>78</td>\n",
       "    </tr>\n",
       "  </tbody>\n",
       "</table>\n",
       "</div>"
      ],
      "text/plain": [
       "          Predicted 1  Predicted 0\n",
       "Actual 1           66           48\n",
       "Actual 0           38           78"
      ]
     },
     "metadata": {},
     "output_type": "display_data"
    },
    {
     "name": "stdout",
     "output_type": "stream",
     "text": [
      "Final Accuracy: 0.621\n",
      "\n",
      "Total time (seconds): 41.93600845336914\n"
     ]
    }
   ],
   "source": [
    "import time\n",
    "from sklearn.metrics import confusion_matrix, precision_score, recall_score\n",
    "\n",
    "\n",
    "\n",
    "\n",
    "def run_CV():\n",
    "    # read in data\n",
    "    data = pd.read_csv('messidor_features.txt', header = None)\n",
    "    start_time = time.time()\n",
    "\n",
    "    \n",
    "    # your code goes here\n",
    "    \n",
    "    overall_accuracy = 0\n",
    "    overall_confusion = np.zeros((2,2))\n",
    "    overall_precision = 0\n",
    "    overall_recall = 0\n",
    "    \n",
    "    kf = KFold(n_splits=5)\n",
    "    \n",
    "    for fold, (train_index, test_index) in enumerate(kf.split(data)):\n",
    "        print(f\"Fold {fold + 1}...\")\n",
    "        \n",
    "        # test and train data\n",
    "        train_data = data.iloc[train_index]\n",
    "        test_data = data.iloc[test_index]\n",
    "        \n",
    "        # finding best k\n",
    "        best_k = find_best_k(train_data)\n",
    "        \n",
    "        \n",
    "        predicted_labels = run_knn(train_data, test_data, best_k)\n",
    "        \n",
    "        actual_labels = test_data.iloc[:, LABEL_COLUMN].values\n",
    "        \n",
    "        accuracy = sum(predicted_labels == actual_labels) / len(actual_labels)\n",
    "        precision = precision_score(actual_labels, predicted_labels, pos_label=1)\n",
    "        recall = recall_score(actual_labels, predicted_labels, pos_label=1)\n",
    "        confusion = confusion_matrix(actual_labels, predicted_labels, labels=[0,1])\n",
    "        \n",
    "        print(f\"Accuracy: {accuracy:.3f}\")\n",
    "        print(f\"Precision for class 1: {precision:.3f}\")\n",
    "        print(f\"Recall for class 1: {recall:.3f}\")\n",
    "        print(\"Confusion Matrix:\")\n",
    "        print_confusion_matrix(*confusion.ravel())\n",
    "        \n",
    "        overall_accuracy += accuracy\n",
    "        \n",
    "    \n",
    "    print(f\"Final Accuracy: {(overall_accuracy / 5.0):.3f}\")\n",
    "    end_time = time.time()\n",
    "    print('\\nTotal time (seconds):', end_time - start_time)\n",
    "\n",
    "run_CV()"
   ]
  },
  {
   "cell_type": "code",
   "execution_count": null,
   "id": "ccff9b63",
   "metadata": {},
   "outputs": [],
   "source": []
  }
 ],
 "metadata": {
  "kernelspec": {
   "display_name": "Python 3 (ipykernel)",
   "language": "python",
   "name": "python3"
  },
  "language_info": {
   "codemirror_mode": {
    "name": "ipython",
    "version": 3
   },
   "file_extension": ".py",
   "mimetype": "text/x-python",
   "name": "python",
   "nbconvert_exporter": "python",
   "pygments_lexer": "ipython3",
   "version": "3.9.13"
  }
 },
 "nbformat": 4,
 "nbformat_minor": 5
}
